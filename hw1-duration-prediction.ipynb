{
 "cells": [
  {
   "cell_type": "code",
   "execution_count": 1,
   "id": "2aeef70c",
   "metadata": {},
   "outputs": [],
   "source": [
    "import pandas as pd \n",
    "from sklearn.feature_extraction import DictVectorizer\n",
    "from sklearn.linear_model import LinearRegression\n",
    "from sklearn.linear_model import Lasso\n",
    "from sklearn.linear_model import Ridge\n",
    "\n",
    "from sklearn.metrics import mean_squared_error\n",
    "\n",
    "import seaborn as sns\n",
    "import matplotlib.pyplot as plt\n",
    "\n",
    "jan_2022 = pd.read_parquet(\"/home/ubuntu/mlops-zoomcamp/01-intro/notebooks/data/yellow_tripdata_2022-01.parquet\")"
   ]
  },
  {
   "cell_type": "code",
   "execution_count": 2,
   "id": "4c234925",
   "metadata": {},
   "outputs": [
    {
     "name": "stdout",
     "output_type": "stream",
     "text": [
      "Q1:  19\n"
     ]
    }
   ],
   "source": [
    "jan_2022.shape\n",
    "print(\"Q1: \", len(jan_2022.columns))"
   ]
  },
  {
   "cell_type": "code",
   "execution_count": 3,
   "id": "751dcc21",
   "metadata": {},
   "outputs": [
    {
     "name": "stdout",
     "output_type": "stream",
     "text": [
      "Q2:  46.45\n"
     ]
    }
   ],
   "source": [
    "jan_2022['duration'] = jan_2022.tpep_dropoff_datetime - jan_2022.tpep_pickup_datetime\n",
    "jan_2022.duration = jan_2022.duration.apply(lambda td: td.total_seconds() / 60)\n",
    "print(\"Q2: \", round(jan_2022['duration'].std(),2))"
   ]
  },
  {
   "cell_type": "code",
   "execution_count": 4,
   "id": "e5a7b1a2",
   "metadata": {},
   "outputs": [
    {
     "name": "stdout",
     "output_type": "stream",
     "text": [
      "Q3:  98 %\n"
     ]
    }
   ],
   "source": [
    "jan_2022_filtered = jan_2022[(jan_2022.duration >= 1) & (jan_2022.duration <= 60)]\n",
    "print(\"Q3: \", round(100*len(jan_2022_filtered)/len(jan_2022)), \"%\")"
   ]
  },
  {
   "cell_type": "code",
   "execution_count": 5,
   "id": "6d8bd5de",
   "metadata": {},
   "outputs": [
    {
     "name": "stderr",
     "output_type": "stream",
     "text": [
      "/tmp/ipykernel_5469/3555547268.py:3: SettingWithCopyWarning: \n",
      "A value is trying to be set on a copy of a slice from a DataFrame.\n",
      "Try using .loc[row_indexer,col_indexer] = value instead\n",
      "\n",
      "See the caveats in the documentation: https://pandas.pydata.org/pandas-docs/stable/user_guide/indexing.html#returning-a-view-versus-a-copy\n",
      "  jan_2022_filtered[categorical] = jan_2022_filtered[categorical].astype(str)\n"
     ]
    }
   ],
   "source": [
    "categorical = ['PULocationID', 'DOLocationID']\n",
    "\n",
    "jan_2022_filtered[categorical] = jan_2022_filtered[categorical].astype(str)"
   ]
  },
  {
   "cell_type": "code",
   "execution_count": 6,
   "id": "0f41ae9f",
   "metadata": {},
   "outputs": [],
   "source": [
    "train_dicts = jan_2022_filtered[categorical].to_dict(orient='records')\n",
    "\n",
    "dv = DictVectorizer()\n",
    "X_train = dv.fit_transform(train_dicts)\n",
    "\n",
    "target = 'duration'\n",
    "y_train = jan_2022_filtered[target].values\n"
   ]
  },
  {
   "cell_type": "code",
   "execution_count": 7,
   "id": "c22e46a8",
   "metadata": {},
   "outputs": [
    {
     "name": "stdout",
     "output_type": "stream",
     "text": [
      "Q4:  (2421440, 515)\n"
     ]
    }
   ],
   "source": [
    "print(\"Q4: \", X_train.shape)"
   ]
  },
  {
   "cell_type": "code",
   "execution_count": 8,
   "id": "e48dd66c",
   "metadata": {},
   "outputs": [
    {
     "name": "stdout",
     "output_type": "stream",
     "text": [
      "Q5:  6.99\n"
     ]
    }
   ],
   "source": [
    "lr = LinearRegression()\n",
    "lr.fit(X_train, y_train)\n",
    "\n",
    "y_pred_on_train = lr.predict(X_train)\n",
    "\n",
    "print(\"Q5: \", round(mean_squared_error(y_train, y_pred_on_train, squared=False),2)) "
   ]
  },
  {
   "cell_type": "code",
   "execution_count": 9,
   "id": "73a01d31",
   "metadata": {},
   "outputs": [],
   "source": [
    "def read_dataframe(filename):\n",
    "    if filename.endswith('.csv'):\n",
    "        df = pd.read_csv(filename)\n",
    "\n",
    "        df.tpep_dropoff_datetime = pd.to_datetime(df.tpep_dropoff_datetime)\n",
    "        df.tpep_pickup_datetime = pd.to_datetime(df.tpep_pickup_datetime)\n",
    "    elif filename.endswith('.parquet'):\n",
    "        df = pd.read_parquet(filename)\n",
    "\n",
    "    df['duration'] = df.tpep_dropoff_datetime - df.tpep_pickup_datetime\n",
    "    df.duration = df.duration.apply(lambda td: td.total_seconds() / 60)\n",
    "\n",
    "    df = df[(df.duration >= 1) & (df.duration <= 60)]\n",
    "\n",
    "    categorical = ['PULocationID', 'DOLocationID']\n",
    "    df[categorical] = df[categorical].astype(str)\n",
    "    \n",
    "    return df\n"
   ]
  },
  {
   "cell_type": "code",
   "execution_count": 10,
   "id": "115b8aae",
   "metadata": {},
   "outputs": [],
   "source": [
    "feb_2022 = read_dataframe('./data/yellow_tripdata_2022-02.parquet')"
   ]
  },
  {
   "cell_type": "code",
   "execution_count": 11,
   "id": "c0f7baed",
   "metadata": {},
   "outputs": [],
   "source": [
    "target = 'duration'\n",
    "val_dicts = feb_2022[categorical].to_dict(orient='records')\n",
    "X_val = dv.transform(val_dicts)\n",
    "y_val = feb_2022[target].values"
   ]
  },
  {
   "cell_type": "code",
   "execution_count": 12,
   "id": "5b114f69",
   "metadata": {},
   "outputs": [
    {
     "name": "stdout",
     "output_type": "stream",
     "text": [
      "Q6:  7.79\n"
     ]
    }
   ],
   "source": [
    "y_pred_on_val = lr.predict(X_val)\n",
    "\n",
    "print(\"Q6: \", round(mean_squared_error(y_val, y_pred_on_val, squared=False),2))"
   ]
  },
  {
   "cell_type": "code",
   "execution_count": null,
   "id": "f76a76d5",
   "metadata": {},
   "outputs": [],
   "source": []
  }
 ],
 "metadata": {
  "kernelspec": {
   "display_name": "Python 3 (ipykernel)",
   "language": "python",
   "name": "python3"
  },
  "language_info": {
   "codemirror_mode": {
    "name": "ipython",
    "version": 3
   },
   "file_extension": ".py",
   "mimetype": "text/x-python",
   "name": "python",
   "nbconvert_exporter": "python",
   "pygments_lexer": "ipython3",
   "version": "3.10.9"
  }
 },
 "nbformat": 4,
 "nbformat_minor": 5
}
